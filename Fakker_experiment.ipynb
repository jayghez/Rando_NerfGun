{
 "cells": [
  {
   "cell_type": "code",
   "execution_count": 26,
   "metadata": {},
   "outputs": [],
   "source": [
    "#necessary libraries \n",
    "import pandas as pd\n",
    "import numpy as np\n",
    "import random\n",
    "from faker import Faker\n",
    "import pandas as pd\n",
    "import numpy as np\n",
    "import matplotlib.pyplot as plt\n",
    "%matplotlib inline\n",
    "from sklearn.cross_validation import train_test_split  \n",
    "from sklearn.metrics import accuracy_score, precision_score, recall_score, confusion_matrix, classification_report\n",
    "from sklearn.neighbors import KNeighborsClassifier\n",
    "from sklearn.grid_search import GridSearchCV\n",
    "from sklearn.ensemble import BaggingClassifier\n",
    "from sklearn.tree import DecisionTreeClassifier, export_graphviz\n",
    "from sklearn.ensemble import RandomForestClassifier, ExtraTreesClassifier\n",
    "from sklearn.linear_model import LogisticRegression\n",
    "from sklearn.cross_validation import cross_val_score, StratifiedKFold, KFold\n",
    "from sklearn.pipeline import make_pipeline\n",
    "from IPython.display import Image \n",
    "from sklearn.preprocessing import StandardScaler\n",
    "import seaborn as sns\n",
    "fake=Faker()"
   ]
  },
  {
   "cell_type": "code",
   "execution_count": 113,
   "metadata": {},
   "outputs": [],
   "source": [
    "# DataFrame LZ \n",
    "software_usage = pd.read_csv(\"/Users/Jordan/Desktop/Scalable/scalable_data_assests/Summary of Software Product Usage_values.csv\")\n",
    "names= pd.read_csv(\"/Users/Jordan/Desktop/Scalable/RandoList.csv\")\n",
    "#dropping from both DF\n",
    "j =names.Full_Name[0:1000].values\n",
    "drop_col = ['Distinct Users','Devices', 'Metered Devices', 'Used Devices', 'Unused Devices','Cost', 'Cost of Used Software','Potential Cost of Unused Software']\n",
    "\n",
    "software_usage= software_usage.drop(drop_col,1)\n",
    "\n",
    "\n",
    "software_usage.dropna()\n",
    "\n",
    "software_usage.Publisher=software_usage.Publisher.astype(str)"
   ]
  },
  {
   "cell_type": "markdown",
   "metadata": {},
   "source": [
    "With this demonostartion, I outlined how I could inititate packaged Fakker, create my Own Provider, introduce my own corpus from a generated list, and add randomness to that list without losing seed info!"
   ]
  },
  {
   "cell_type": "markdown",
   "metadata": {},
   "source": [
    "Now, if I could just figure out how to create a profile and stack definitions... \n"
   ]
  },
  {
   "cell_type": "code",
   "execution_count": 120,
   "metadata": {},
   "outputs": [],
   "source": [
    "# creating profile attributes \n",
    "\n",
    "software_usage['P_N'] = software_usage[['Publisher', 'Name']].apply(lambda x: ' '.join(x), axis=1)"
   ]
  },
  {
   "cell_type": "code",
   "execution_count": 184,
   "metadata": {},
   "outputs": [
    {
     "name": "stdout",
     "output_type": "stream",
     "text": [
      " Rando names =  ['Stormie Knapp', 'Ahmet Stewart', 'Mora Weber']\n",
      "Rando software names =  ['Microsoft Corporation SQL Server Browser', 'AMD Catalyst Control Center - Branding', 'Microsoft Corporation Windows Live Essentials']\n"
     ]
    }
   ],
   "source": [
    "from faker.providers import BaseProvider\n",
    "\n",
    "#new provider class\n",
    "class Myprovider(BaseProvider):        \n",
    "    def names(self,x):\n",
    "        #change state for list change\n",
    "        random.seed(a=432)\n",
    "        x = random.sample(j,x)\n",
    "        return x \n",
    "    #prints desired number of random products \n",
    "    def software_names(self,x):\n",
    "        random.seed(a=412)\n",
    "        x = random.sample(software_usage[\"P_N\"],x)\n",
    "        return x\n",
    "    \n",
    "\n",
    "    \n",
    "#adds    \n",
    "fake.add_provider(Myprovider)\n",
    "\n",
    "print \"Rando names = \" ,fake.names(3)\n",
    "print \"Rando software names = \" ,fake.software_names(3)"
   ]
  },
  {
   "cell_type": "code",
   "execution_count": 205,
   "metadata": {},
   "outputs": [
    {
     "name": "stdout",
     "output_type": "stream",
     "text": [
      "['Stormie Knapp', 'Ahmet Stewart', 'Mora Weber', 'Cassy Griffin', 'Meg Baxter']\n",
      "['Microsoft Corporation SQL Server Browser', 'AMD Catalyst Control Center - Branding', 'Microsoft Corporation Windows Live Essentials', 'Audacity Team Audacity', 'Microsoft Corporation Shared MUI']\n"
     ]
    }
   ],
   "source": [
    "\n",
    "# Function for calling profile\n",
    "def create_fake_stuff(num):\n",
    "    print fake.names(num)\n",
    "    print fake.software_names(num)\n",
    "        \n",
    "create_fake_stuff(5)\n",
    "\n"
   ]
  },
  {
   "cell_type": "code",
   "execution_count": null,
   "metadata": {
    "collapsed": true
   },
   "outputs": [],
   "source": []
  },
  {
   "cell_type": "code",
   "execution_count": null,
   "metadata": {
    "collapsed": true
   },
   "outputs": [],
   "source": []
  }
 ],
 "metadata": {
  "kernelspec": {
   "display_name": "Python 2",
   "language": "python",
   "name": "python2"
  },
  "language_info": {
   "codemirror_mode": {
    "name": "ipython",
    "version": 2
   },
   "file_extension": ".py",
   "mimetype": "text/x-python",
   "name": "python",
   "nbconvert_exporter": "python",
   "pygments_lexer": "ipython2",
   "version": "2.7.13"
  }
 },
 "nbformat": 4,
 "nbformat_minor": 2
}
