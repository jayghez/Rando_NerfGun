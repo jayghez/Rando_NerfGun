{
 "cells": [
  {
   "cell_type": "code",
   "execution_count": 2,
   "metadata": {
    "collapsed": true
   },
   "outputs": [],
   "source": [
    "#necessary libraries \n",
    "import pandas as pd\n",
    "import numpy as np\n",
    "import random\n",
    "from faker import Faker\n",
    "fake=Faker()"
   ]
  },
  {
   "cell_type": "code",
   "execution_count": 5,
   "metadata": {},
   "outputs": [],
   "source": [
    "fake.name()\n",
    "\n",
    "names= pd.read_csv(\"/Users/Jordan/Desktop/Scalable/RandoList.csv\")\n",
    "\n",
    "j =names.Full_Name[0:1000].values\n",
    "\n"
   ]
  },
  {
   "cell_type": "code",
   "execution_count": 7,
   "metadata": {},
   "outputs": [
    {
     "data": {
      "text/plain": [
       "['Stormie Knapp', 'Ahmet Stewart', 'Mora Weber', 'Cassy Griffin', 'Meg Baxter']"
      ]
     },
     "execution_count": 7,
     "metadata": {},
     "output_type": "execute_result"
    }
   ],
   "source": [
    "from faker.providers import BaseProvider\n",
    "\n",
    "#new provider class\n",
    "class Myprovider(BaseProvider):        \n",
    "    def names(self,n):\n",
    "        #change state for list change\n",
    "        random.seed(a=432)\n",
    "        n = random.sample(j,n)\n",
    "        return n \n",
    "    \n",
    "    \n",
    "    \n",
    "fake.add_provider(Myprovider)\n",
    "\n",
    "fake.names(5)"
   ]
  },
  {
   "cell_type": "markdown",
   "metadata": {},
   "source": [
    "With this demonostartion, I outlined how I could inititate packaged Fakker, create my Own Provider, introduce my own corpus from a generated list, and add randomness to that list without losing seed info!"
   ]
  },
  {
   "cell_type": "markdown",
   "metadata": {},
   "source": [
    "Now, if I could just figure out how to create a profile and stack definitions... \n"
   ]
  },
  {
   "cell_type": "code",
   "execution_count": 23,
   "metadata": {},
   "outputs": [
    {
     "name": "stdout",
     "output_type": "stream",
     "text": [
      "brandonlawson@taylor-cline.com\n",
      "aggregate extensible relationships\n",
      "9086 Wolf Crossing\n",
      "New Christopherchester, PA 74455-4095\n",
      "North Marissashire\n",
      "Rhode Island\n",
      "Animi adipisci eius odio iste itaque voluptas. Neque eos corrupti aut corporis ducimus doloribus. A aliquam doloremque maiores.\n"
     ]
    }
   ],
   "source": [
    "\n",
    "# Function for calling profile\n",
    "def create_fake_stuff(fake):\n",
    "    stuff = [\"email\", \"bs\", \"address\",\n",
    "             \"city\", \"state\",\n",
    "             \"paragraph\"]\n",
    "    for item in stuff:\n",
    "        #print \"%s = %s\" % (item, getattr(fake, item)())\n",
    "        print \"%s\" % (getattr(fake,item)())\n",
    "create_fake_stuff(fake)"
   ]
  },
  {
   "cell_type": "code",
   "execution_count": null,
   "metadata": {
    "collapsed": true
   },
   "outputs": [],
   "source": [
    "# creating profile attributes "
   ]
  },
  {
   "cell_type": "code",
   "execution_count": null,
   "metadata": {
    "collapsed": true
   },
   "outputs": [],
   "source": []
  }
 ],
 "metadata": {
  "kernelspec": {
   "display_name": "Python 2",
   "language": "python",
   "name": "python2"
  },
  "language_info": {
   "codemirror_mode": {
    "name": "ipython",
    "version": 2
   },
   "file_extension": ".py",
   "mimetype": "text/x-python",
   "name": "python",
   "nbconvert_exporter": "python",
   "pygments_lexer": "ipython2",
   "version": "2.7.13"
  }
 },
 "nbformat": 4,
 "nbformat_minor": 2
}
